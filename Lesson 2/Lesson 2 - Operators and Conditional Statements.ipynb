{
 "cells": [
  {
   "cell_type": "markdown",
   "id": "83898c59",
   "metadata": {},
   "source": [
    "## Operators\n",
    "Operators are symbols that indicate how two operands should be manipulated. Operators and operants together form an expresion. Operators will always return a value\n",
    "\n",
    "### Arithmetic Operators\n",
    "- `+` add two operands\n",
    "- `-` substract two operands\n",
    "- `*` multiply two operands\n",
    "- `/` divide two operands\n",
    "- `%` modulus, return the remainder when the first number is divided from the second number.\n",
    "- `//` return integer division\n",
    "- `**` Exponentiation"
   ]
  },
  {
   "cell_type": "code",
   "execution_count": 1,
   "id": "f8762c51",
   "metadata": {},
   "outputs": [
    {
     "data": {
      "text/plain": [
       "9"
      ]
     },
     "execution_count": 1,
     "metadata": {},
     "output_type": "execute_result"
    }
   ],
   "source": [
    "x = 7\n",
    "y = 2\n",
    "x + y "
   ]
  },
  {
   "cell_type": "code",
   "execution_count": 2,
   "id": "098414f0",
   "metadata": {},
   "outputs": [
    {
     "data": {
      "text/plain": [
       "5"
      ]
     },
     "execution_count": 2,
     "metadata": {},
     "output_type": "execute_result"
    }
   ],
   "source": [
    "x - y "
   ]
  },
  {
   "cell_type": "code",
   "execution_count": 3,
   "id": "57c8f4c2",
   "metadata": {},
   "outputs": [
    {
     "data": {
      "text/plain": [
       "14"
      ]
     },
     "execution_count": 3,
     "metadata": {},
     "output_type": "execute_result"
    }
   ],
   "source": [
    "x * y"
   ]
  },
  {
   "cell_type": "code",
   "execution_count": 4,
   "id": "5ea98586",
   "metadata": {},
   "outputs": [
    {
     "data": {
      "text/plain": [
       "3.5"
      ]
     },
     "execution_count": 4,
     "metadata": {},
     "output_type": "execute_result"
    }
   ],
   "source": [
    "x / y"
   ]
  },
  {
   "cell_type": "code",
   "execution_count": 5,
   "id": "b3275999",
   "metadata": {},
   "outputs": [
    {
     "data": {
      "text/plain": [
       "1"
      ]
     },
     "execution_count": 5,
     "metadata": {},
     "output_type": "execute_result"
    }
   ],
   "source": [
    "x % y"
   ]
  },
  {
   "cell_type": "code",
   "execution_count": 6,
   "id": "e569b719",
   "metadata": {},
   "outputs": [
    {
     "data": {
      "text/plain": [
       "3"
      ]
     },
     "execution_count": 6,
     "metadata": {},
     "output_type": "execute_result"
    }
   ],
   "source": [
    "x // y"
   ]
  },
  {
   "cell_type": "code",
   "execution_count": 7,
   "id": "05090a67",
   "metadata": {},
   "outputs": [
    {
     "data": {
      "text/plain": [
       "49"
      ]
     },
     "execution_count": 7,
     "metadata": {},
     "output_type": "execute_result"
    }
   ],
   "source": [
    "x ** y"
   ]
  },
  {
   "cell_type": "markdown",
   "id": "9d9a299f",
   "metadata": {},
   "source": [
    "### Comparison Operators\n",
    "\n",
    "- `==`\tEqual\tx == y\t\n",
    "- `!=`\tNot equal\tx != y\t\n",
    "-  `>`\tGreater than\tx > y\t\n",
    "- `<`\tLess than\tx < y\t\n",
    "- `>=`\tGreater than or equal to\tx >= y\t\n",
    "- `<=`\tLess than or equal to\tx <= y"
   ]
  },
  {
   "cell_type": "code",
   "execution_count": 8,
   "id": "24b65b8d",
   "metadata": {},
   "outputs": [
    {
     "data": {
      "text/plain": [
       "False"
      ]
     },
     "execution_count": 8,
     "metadata": {},
     "output_type": "execute_result"
    }
   ],
   "source": [
    "x = 9\n",
    "y = 1\n",
    "x < y"
   ]
  },
  {
   "cell_type": "code",
   "execution_count": 9,
   "id": "dfff367e",
   "metadata": {},
   "outputs": [
    {
     "data": {
      "text/plain": [
       "True"
      ]
     },
     "execution_count": 9,
     "metadata": {},
     "output_type": "execute_result"
    }
   ],
   "source": [
    "x > y"
   ]
  },
  {
   "cell_type": "code",
   "execution_count": 10,
   "id": "ff31f54b",
   "metadata": {},
   "outputs": [
    {
     "data": {
      "text/plain": [
       "False"
      ]
     },
     "execution_count": 10,
     "metadata": {},
     "output_type": "execute_result"
    }
   ],
   "source": [
    "x == y"
   ]
  },
  {
   "cell_type": "code",
   "execution_count": 11,
   "id": "a61ae583",
   "metadata": {},
   "outputs": [
    {
     "data": {
      "text/plain": [
       "True"
      ]
     },
     "execution_count": 11,
     "metadata": {},
     "output_type": "execute_result"
    }
   ],
   "source": [
    "# Comparisson operators can be concatenated\n",
    "x = 9\n",
    "1 < x and x < 20"
   ]
  },
  {
   "cell_type": "markdown",
   "id": "4e75d36f",
   "metadata": {},
   "source": [
    "### Logical operators\n",
    "- `and` \tReturns True if both statements are true\tx < 5 and  x < 10\t\n",
    "- `or`\tReturns True if one of the statements is true\tx < 5 or x < 4\t\n",
    "- `not`\tReverse the result, returns False if the result is true"
   ]
  },
  {
   "cell_type": "code",
   "execution_count": 12,
   "id": "6021e7cd",
   "metadata": {},
   "outputs": [
    {
     "data": {
      "text/plain": [
       "True"
      ]
     },
     "execution_count": 12,
     "metadata": {},
     "output_type": "execute_result"
    }
   ],
   "source": [
    "x = True\n",
    "y = False\n",
    "x or y"
   ]
  },
  {
   "cell_type": "code",
   "execution_count": 13,
   "id": "29263f96",
   "metadata": {},
   "outputs": [
    {
     "data": {
      "text/plain": [
       "False"
      ]
     },
     "execution_count": 13,
     "metadata": {},
     "output_type": "execute_result"
    }
   ],
   "source": [
    "x and y"
   ]
  },
  {
   "cell_type": "code",
   "execution_count": 14,
   "id": "05abf3b1",
   "metadata": {},
   "outputs": [
    {
     "data": {
      "text/plain": [
       "False"
      ]
     },
     "execution_count": 14,
     "metadata": {},
     "output_type": "execute_result"
    }
   ],
   "source": [
    "not x"
   ]
  },
  {
   "cell_type": "code",
   "execution_count": 15,
   "id": "7b444ff8",
   "metadata": {},
   "outputs": [
    {
     "data": {
      "text/plain": [
       "True"
      ]
     },
     "execution_count": 15,
     "metadata": {},
     "output_type": "execute_result"
    }
   ],
   "source": [
    "not y"
   ]
  },
  {
   "cell_type": "markdown",
   "id": "54db517e",
   "metadata": {},
   "source": [
    "### Membership Operators\n",
    "- `in` \tReturns True if a sequence with the specified value is present in the object\n",
    "- `not in`\tReturns True if a sequence with the specified value is not present in the object"
   ]
  },
  {
   "cell_type": "code",
   "execution_count": 16,
   "id": "eb6d6464",
   "metadata": {},
   "outputs": [
    {
     "data": {
      "text/plain": [
       "True"
      ]
     },
     "execution_count": 16,
     "metadata": {},
     "output_type": "execute_result"
    }
   ],
   "source": [
    "a = [1, 2, 3, 4, 5]\n",
    "b = 4\n",
    "\n",
    "b in a"
   ]
  },
  {
   "cell_type": "code",
   "execution_count": 18,
   "id": "23972309",
   "metadata": {},
   "outputs": [
    {
     "data": {
      "text/plain": [
       "True"
      ]
     },
     "execution_count": 18,
     "metadata": {},
     "output_type": "execute_result"
    }
   ],
   "source": [
    "c = [2, 3, 4]\n",
    "\n",
    "c not in a"
   ]
  },
  {
   "cell_type": "code",
   "execution_count": 19,
   "id": "15e8c91a",
   "metadata": {},
   "outputs": [
    {
     "data": {
      "text/plain": [
       "[1, 2, 3, 4, 5, [2, 3, 4]]"
      ]
     },
     "execution_count": 19,
     "metadata": {},
     "output_type": "execute_result"
    }
   ],
   "source": [
    "a.append([2, 3, 4])\n",
    "a"
   ]
  },
  {
   "cell_type": "code",
   "execution_count": 20,
   "id": "336bb226",
   "metadata": {},
   "outputs": [
    {
     "data": {
      "text/plain": [
       "True"
      ]
     },
     "execution_count": 20,
     "metadata": {},
     "output_type": "execute_result"
    }
   ],
   "source": [
    "c in a"
   ]
  },
  {
   "cell_type": "markdown",
   "id": "d7c98cc2",
   "metadata": {},
   "source": [
    "## Conditional statements\n",
    "Frequently, a program needs to skip over some statements, execute a series of statements repetitively, or choose between alternate sets of statements to execute.\n",
    "\n",
    "That is where control structures come in. A control structure directs the order of execution of the statements in a program\n",
    "\n",
    "### For Loops\n",
    "Will iterate over a list of values, executing an action until all elements are looped over"
   ]
  },
  {
   "cell_type": "code",
   "execution_count": 21,
   "id": "6935c5ca",
   "metadata": {},
   "outputs": [
    {
     "name": "stdout",
     "output_type": "stream",
     "text": [
      "Mary\n",
      "Joseph\n",
      "Gerard\n",
      "Tom\n"
     ]
    }
   ],
   "source": [
    "# Iterate over names in a list\n",
    "names = ['Mary', 'Joseph', 'Gerard', 'Tom']\n",
    "\n",
    "for name in names:\n",
    "    print(name)"
   ]
  },
  {
   "cell_type": "markdown",
   "id": "3b61579d",
   "metadata": {},
   "source": [
    "In the previous code, we use `name` as a variable to loop over the name list, we then print the name. Notice the `:` after the for statement, this is part of the `for` syntax. Also notice the indentation (white space) after the semicolon, Python uses whitespace to denote blocks, in other languages `{}` are used."
   ]
  },
  {
   "cell_type": "code",
   "execution_count": 22,
   "id": "25ac4799",
   "metadata": {},
   "outputs": [
    {
     "name": "stdout",
     "output_type": "stream",
     "text": [
      "J\n",
      "o\n",
      "n\n",
      " \n",
      "D\n",
      "o\n",
      "e\n"
     ]
    }
   ],
   "source": [
    "# You can also loop over strings and other collections\n",
    "for letter in 'Jon Doe':\n",
    "    print(letter)"
   ]
  },
  {
   "cell_type": "markdown",
   "id": "25fb40a6",
   "metadata": {},
   "source": [
    "### The if statement\n",
    "`if <expr>:\n",
    "    <statement>`\n",
    "    \n",
    "- <expr> is evaluated in a Boolean context\n",
    "- <statement> is a valid Python statement and must be indented\n",
    "- Notice the `:`, this is required"
   ]
  },
  {
   "cell_type": "code",
   "execution_count": 23,
   "id": "f9e24d81",
   "metadata": {},
   "outputs": [],
   "source": [
    "x = 3\n",
    "y = 10"
   ]
  },
  {
   "cell_type": "code",
   "execution_count": 25,
   "id": "1e77ae67",
   "metadata": {},
   "outputs": [
    {
     "name": "stdout",
     "output_type": "stream",
     "text": [
      "x is less than y\n"
     ]
    }
   ],
   "source": [
    "if x < y:\n",
    "    print('x is less than y')"
   ]
  },
  {
   "cell_type": "code",
   "execution_count": 26,
   "id": "b27629d9",
   "metadata": {},
   "outputs": [],
   "source": [
    "if x > y:\n",
    "    print('x is bigger than y')"
   ]
  },
  {
   "cell_type": "code",
   "execution_count": 29,
   "id": "6bb45218",
   "metadata": {},
   "outputs": [
    {
     "name": "stdout",
     "output_type": "stream",
     "text": [
      "Its there\n"
     ]
    }
   ],
   "source": [
    "if 'ello' in 'hello':\n",
    "    print('Its there')"
   ]
  },
  {
   "cell_type": "code",
   "execution_count": 30,
   "id": "a2c3f88f",
   "metadata": {},
   "outputs": [
    {
     "name": "stdout",
     "output_type": "stream",
     "text": [
      "lo is in hello\n",
      "x is less than y\n",
      "Statement outside of the second condition\n"
     ]
    }
   ],
   "source": [
    "# We can also nest if statements, remember indentations\n",
    "if 'lo' in 'hello':\n",
    "    print('lo is in hello')\n",
    "    \n",
    "    if x < y:\n",
    "        print('x is less than y')\n",
    "    print('Statement outside of the second condition')"
   ]
  },
  {
   "cell_type": "code",
   "execution_count": 32,
   "id": "879f1d9c",
   "metadata": {},
   "outputs": [
    {
     "name": "stdout",
     "output_type": "stream",
     "text": [
      "lo is in hello\n",
      "Statement outside of the second condition\n"
     ]
    }
   ],
   "source": [
    "# What if x is not less than y?\n",
    "x = 100\n",
    "if 'lo' in 'hello': # this is true\n",
    "    print('lo is in hello') \n",
    "    \n",
    "    if x < y: # this is false\n",
    "        print('x is less than y') \n",
    "    print('Statement outside of the second condition') # this will still run, as it is outside the if statement"
   ]
  },
  {
   "cell_type": "markdown",
   "id": "99ee3f21",
   "metadata": {},
   "source": [
    "Nested for loops are also possible"
   ]
  },
  {
   "cell_type": "code",
   "execution_count": 39,
   "id": "12fb3c76",
   "metadata": {},
   "outputs": [
    {
     "name": "stdout",
     "output_type": "stream",
     "text": [
      "a\n",
      "1\n",
      "2\n",
      "3\n",
      "b\n",
      "1\n",
      "2\n",
      "3\n",
      "c\n",
      "1\n",
      "2\n",
      "3\n"
     ]
    }
   ],
   "source": [
    "list1 = [\"a\", \"b\", \"c\"]\n",
    "list2 = [\"1\", \"2\", \"3\"]\n",
    "\n",
    "for x in list1:\n",
    "    print(x)\n",
    "    for y in list2:\n",
    "        print(y)"
   ]
  },
  {
   "cell_type": "markdown",
   "id": "b3f82f7d",
   "metadata": {},
   "source": [
    "Range function:\n",
    "Returns a sequence of numbers in the form `range(start, stop, step)` it can be used in cobination with for loops"
   ]
  },
  {
   "cell_type": "code",
   "execution_count": 40,
   "id": "dd623921",
   "metadata": {},
   "outputs": [
    {
     "name": "stdout",
     "output_type": "stream",
     "text": [
      "0\n",
      "1\n",
      "2\n",
      "3\n",
      "4\n",
      "5\n",
      "6\n",
      "7\n",
      "8\n",
      "9\n"
     ]
    }
   ],
   "source": [
    "for i in range(0, 10):\n",
    "    print(i)"
   ]
  },
  {
   "cell_type": "code",
   "execution_count": 41,
   "id": "a680b133",
   "metadata": {},
   "outputs": [
    {
     "name": "stdout",
     "output_type": "stream",
     "text": [
      "0\n",
      "2\n",
      "4\n",
      "6\n",
      "8\n"
     ]
    }
   ],
   "source": [
    "for i in range(0, 10, 2):\n",
    "    print(i)"
   ]
  },
  {
   "cell_type": "markdown",
   "id": "1c0dfb7e",
   "metadata": {},
   "source": [
    "### Optional Exercises\n",
    "\n",
    "1. Create a for loop that prints numbers from 1 to 20 in increments of 2 e.g. 2, 4, 6, 8, ...\n",
    "\n",
    "2. Create a for loop that prints from a list of words in a list. Create a second nested for loop that prints another word from a second list. Every word should from the first list shall be printed with every other word from the second list.\n",
    "\n",
    "`list_a = [\"chicken\", \"veggie\", \"meat\", \"ham\", \"cheese\", \"beef\", \"chocolate\"]`\n",
    "\n",
    "`list_b = [\"sandwich\", \"waffles\", \"pizza\", \"burrito\", \"soup\", \"salad\", \"smoothie\"]`\n",
    "\n",
    "Tip: You may want to use `range(len(list_a))` to iterate over the length of the list.\n",
    "\n",
    "Example output for exercise 2:\n",
    "\n",
    "`chicken sandwich\n",
    "chicken waffles \n",
    "chicken pizza \n",
    "chicken burrito...`\n",
    "\n",
    "`veggie sandwich \n",
    "veggie waffles \n",
    "veggie pizza \n",
    "veggie burrito...`"
   ]
  },
  {
   "cell_type": "markdown",
   "id": "6bed564d",
   "metadata": {},
   "source": [
    "### Combining for and if statments\n",
    "- We can combine for loops and if statements to do different things when conditions are met.\n",
    "- In a for loop the `break` statement will stop the loop\n",
    "- In a for loop the `continue` statement will skip the element"
   ]
  },
  {
   "cell_type": "code",
   "execution_count": 33,
   "id": "b26fb2db",
   "metadata": {},
   "outputs": [
    {
     "name": "stdout",
     "output_type": "stream",
     "text": [
      "car\n",
      "bike\n",
      "truck\n",
      "plane\n",
      "boat\n"
     ]
    }
   ],
   "source": [
    "transport = ['car', 'bike', 'truck', 'plane', 'boat']\n",
    "\n",
    "for element in transport:\n",
    "    print(element)"
   ]
  },
  {
   "cell_type": "code",
   "execution_count": 35,
   "id": "e7df5860",
   "metadata": {},
   "outputs": [
    {
     "name": "stdout",
     "output_type": "stream",
     "text": [
      "car\n",
      "bike\n",
      "truck\n",
      "plane\n",
      "You can fly\n",
      "boat\n"
     ]
    }
   ],
   "source": [
    "for element in transport:\n",
    "    print(element)\n",
    "    if element == 'plane':\n",
    "        print('You can fly')"
   ]
  },
  {
   "cell_type": "code",
   "execution_count": 36,
   "id": "35517fcc",
   "metadata": {},
   "outputs": [
    {
     "name": "stdout",
     "output_type": "stream",
     "text": [
      "car\n",
      "bike\n",
      "truck\n",
      "plane\n",
      "You can fly\n"
     ]
    }
   ],
   "source": [
    "# Break the loop if condition is met\n",
    "for element in transport:\n",
    "    print(element)\n",
    "    if element == 'plane':\n",
    "        print('You can fly')\n",
    "        break"
   ]
  },
  {
   "cell_type": "code",
   "execution_count": 38,
   "id": "b76ff230",
   "metadata": {},
   "outputs": [
    {
     "name": "stdout",
     "output_type": "stream",
     "text": [
      "car\n",
      "truck\n",
      "plane\n",
      "boat\n"
     ]
    }
   ],
   "source": [
    "# Skip if condition is met\n",
    "for element in transport:\n",
    "    if element == 'bike':\n",
    "        continue\n",
    "    print(element)\n"
   ]
  },
  {
   "cell_type": "markdown",
   "id": "c6970a8d",
   "metadata": {},
   "source": [
    "Else and elif clauses\n",
    "Sometimes you want to take a different path or do something different if other conditions are met. This is accomplished with an `else` clause.\n",
    "\n",
    "Branching executions can be accomplished by `elif` short for else if, will evaluate an expression and execute if True."
   ]
  },
  {
   "cell_type": "code",
   "execution_count": 43,
   "id": "17477af6",
   "metadata": {},
   "outputs": [
    {
     "name": "stdout",
     "output_type": "stream",
     "text": [
      "car\n",
      "You can drive\n",
      "bike\n",
      "You can drive\n",
      "truck\n",
      "You can drive\n",
      "plane\n",
      "You can fly\n",
      "boat\n",
      "You can float\n"
     ]
    }
   ],
   "source": [
    "for element in transport:\n",
    "    print(element)\n",
    "    if element == 'plane':\n",
    "        print('You can fly')\n",
    "    elif element == 'boat':\n",
    "        print('You can float')\n",
    "    else:\n",
    "        print('You can drive')"
   ]
  },
  {
   "cell_type": "markdown",
   "id": "85220a7a",
   "metadata": {},
   "source": [
    "## Optional exercise\n",
    "Write a program that takes two integer numbers and determines if the numbers are odd or even. Remember the `input()` and `%` function and operator.\n",
    "\n",
    "Additional exercise: do the same computation as above, but for a list of numbers using a `for` loop and `if` statements."
   ]
  },
  {
   "cell_type": "markdown",
   "id": "aee7968e",
   "metadata": {},
   "source": [
    "### Conditional expressions (ternary operator)\n",
    "This is different from the if statement forms listed above because it is not a control structure that directs the flow of program execution. It acts more like an operator that defines an expression. In the above example, <conditional_expr> is evaluated first. If it is true, the expression evaluates to <expr1>. If it is false, the expression evaluates to <expr2>.\n",
    "    \n",
    "- \\<conditional_expr> ? \\<expr1> : \\<expr2> "
   ]
  },
  {
   "cell_type": "code",
   "execution_count": 47,
   "id": "22237e46",
   "metadata": {},
   "outputs": [
    {
     "name": "stdout",
     "output_type": "stream",
     "text": [
      "Lets  stay\n"
     ]
    }
   ],
   "source": [
    "rain = True\n",
    "print('Lets ', 'go outside' if not rain else 'stay')"
   ]
  },
  {
   "cell_type": "code",
   "execution_count": 49,
   "id": "9b170387",
   "metadata": {},
   "outputs": [
    {
     "data": {
      "text/plain": [
       "'Bob'"
      ]
     },
     "execution_count": 49,
     "metadata": {},
     "output_type": "execute_result"
    }
   ],
   "source": [
    "name = 'Bob'\n",
    "who = 'Bob' if name == 'Bob' else 'Not Bob'\n",
    "who"
   ]
  },
  {
   "cell_type": "code",
   "execution_count": 50,
   "id": "5a676237",
   "metadata": {},
   "outputs": [
    {
     "data": {
      "text/plain": [
       "'Not Bob'"
      ]
     },
     "execution_count": 50,
     "metadata": {},
     "output_type": "execute_result"
    }
   ],
   "source": [
    "name = 'Jane'\n",
    "who = 'Bob' if name == 'Bob' else 'Not Bob'\n",
    "who"
   ]
  },
  {
   "cell_type": "markdown",
   "id": "8536faa9",
   "metadata": {},
   "source": [
    "## While loops\n",
    "while \\<expr>:\n",
    "\n",
    "    <statement(s)>\n",
    "        \n",
    "<statement(s)> represents the block to be repeatedly executed, often referred to as the body of the loop. This is denoted with indentation, just as in an if statement.\n",
    "\n",
    "The controlling expression, <expr>, typically involves one or more variables that are initialized prior to starting the loop and then modified somewhere in the loop body.\n",
    "    \n",
    "While loops can also use `break` and `continue` statements. You can also use `else` statements once the condition is no longer true "
   ]
  },
  {
   "cell_type": "code",
   "execution_count": 51,
   "id": "2a3797d0",
   "metadata": {},
   "outputs": [
    {
     "name": "stdout",
     "output_type": "stream",
     "text": [
      "4\n",
      "3\n",
      "2\n",
      "1\n",
      "0\n"
     ]
    }
   ],
   "source": [
    "n = 5\n",
    "while n > 0:\n",
    "    n = n - 1\n",
    "    print(n)"
   ]
  },
  {
   "cell_type": "code",
   "execution_count": 53,
   "id": "edf20339",
   "metadata": {},
   "outputs": [
    {
     "name": "stdout",
     "output_type": "stream",
     "text": [
      "Bruce\n",
      "Diana\n",
      "Derek\n",
      "Bob\n",
      "no more names\n"
     ]
    }
   ],
   "source": [
    "names = ['Bob', 'Derek', 'Diana', 'Bruce']\n",
    "while names:\n",
    "    print(names.pop())\n",
    "else:\n",
    "    print('no more names')"
   ]
  },
  {
   "cell_type": "markdown",
   "id": "3b4a7594",
   "metadata": {},
   "source": [
    "## Exercises for participation credit\n",
    "Please complete the following exercises and upload your completed notebook to your Github repository for participation credit.\n",
    "\n",
    "1. Write a for loop that adds all numbers from 1 to 100\n",
    "2. Using the list `lst1=[\"Joe\", \"Sarah\", \"Mike\", \"Jess\", \"\", \"Matt\", \"\", \"Greg\"]` create a second list called `lst2`, iterate through the list and add the names to `lst2` only if the element is different to an empty string.\n",
    "3. Take 3 numbers from the user using `input()` save the numbers to a list. Take 3 more numbers from the user and save it to a second list. Iterate over both lists and multiply every number on the first list over every other number on the second list. Print the multiplication result only if the result is an even number, else print the words `The result is odd`."
   ]
  },
  {
   "cell_type": "code",
   "execution_count": null,
   "id": "63de2ad5",
   "metadata": {},
   "outputs": [],
   "source": []
  }
 ],
 "metadata": {
  "kernelspec": {
   "display_name": "Python 3 (ipykernel)",
   "language": "python",
   "name": "python3"
  },
  "language_info": {
   "codemirror_mode": {
    "name": "ipython",
    "version": 3
   },
   "file_extension": ".py",
   "mimetype": "text/x-python",
   "name": "python",
   "nbconvert_exporter": "python",
   "pygments_lexer": "ipython3",
   "version": "3.10.4"
  }
 },
 "nbformat": 4,
 "nbformat_minor": 5
}
