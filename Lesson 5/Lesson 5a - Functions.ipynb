{
 "cells": [
  {
   "cell_type": "markdown",
   "id": "d30f8f43",
   "metadata": {},
   "source": [
    "## Functions\n",
    "A function is a block of code with an associated name that receives and input and follows a sequence of statements. It returns a value or completes a task. It can be called as many times as needed.\n",
    "\n",
    "The use of functions is a very important component of the so-called structured programming paradigm, and it has several advantages:\n",
    "\n",
    "modularization: allows a complex program to be segmented into a series of simpler parts or modules, thus facilitating programming and debugging. reuse: allows you to reuse the same function in different programs. Python has a number of functions built into the language, and also allows you to create user-defined functions to be used in your own programs.\n",
    "\n",
    "DEF The def statement is a function definition used to create user-defined function objects.\n",
    "\n",
    "A function definition is an executable statement. Its execution binds the name of the function in the current local namespace to a function object (a wrapper around the executable code for the function). This function object contains a reference to the global local namespace as the global namespace to be used when the function is called.\n",
    "\n",
    "The function definition does not execute the body of the function; this is executed only when the function is called."
   ]
  },
  {
   "cell_type": "code",
   "execution_count": 2,
   "id": "be6cf6dd",
   "metadata": {},
   "outputs": [],
   "source": [
    "def hello(arg):\n",
    "        print (\"Hello\", arg, \"!\")"
   ]
  },
  {
   "cell_type": "code",
   "execution_count": 3,
   "id": "e7d80121",
   "metadata": {},
   "outputs": [
    {
     "name": "stdout",
     "output_type": "stream",
     "text": [
      "Hello World !\n"
     ]
    }
   ],
   "source": [
    "hello(\"World\")"
   ]
  },
  {
   "cell_type": "code",
   "execution_count": 4,
   "id": "3f0ea380",
   "metadata": {},
   "outputs": [
    {
     "name": "stdout",
     "output_type": "stream",
     "text": [
      "Hello 8 !\n"
     ]
    }
   ],
   "source": [
    "hello(8)"
   ]
  },
  {
   "cell_type": "markdown",
   "id": "c924d5b4",
   "metadata": {},
   "source": [
    "Functions must be indented, similar to control structures"
   ]
  },
  {
   "cell_type": "markdown",
   "id": "e7f9a4a7",
   "metadata": {},
   "source": [
    "### Arguments and parameters\n",
    "When defining a function the values which are received are called parameters, but during the call the values which are sent are called arguments.\n",
    "\n",
    "By position When you send arguments to a function, they are received in order in the defined parameters. They are therefore said to be positional arguments:"
   ]
  },
  {
   "cell_type": "code",
   "execution_count": 5,
   "id": "511c4609",
   "metadata": {},
   "outputs": [],
   "source": [
    "def substract(a = 2, b = 3):\n",
    "     return a - b"
   ]
  },
  {
   "cell_type": "code",
   "execution_count": 6,
   "id": "4834298b",
   "metadata": {},
   "outputs": [
    {
     "data": {
      "text/plain": [
       "-3"
      ]
     },
     "execution_count": 6,
     "metadata": {},
     "output_type": "execute_result"
    }
   ],
   "source": [
    "substract(4, 7)"
   ]
  },
  {
   "cell_type": "markdown",
   "id": "7d319392",
   "metadata": {},
   "source": [
    "Or you can define it by name"
   ]
  },
  {
   "cell_type": "code",
   "execution_count": 7,
   "id": "8ecb6616",
   "metadata": {},
   "outputs": [
    {
     "data": {
      "text/plain": [
       "6"
      ]
     },
     "execution_count": 7,
     "metadata": {},
     "output_type": "execute_result"
    }
   ],
   "source": [
    "substract(b = 4, a = 10)"
   ]
  },
  {
   "cell_type": "code",
   "execution_count": 8,
   "id": "ce8f9e7d",
   "metadata": {},
   "outputs": [],
   "source": [
    "# No parameters"
   ]
  },
  {
   "cell_type": "markdown",
   "id": "0232b46c",
   "metadata": {},
   "source": [
    "### Indeterminate arguments\n",
    "Used when we are not sure how many arguments will be received by the function. This requires the `arg` parameter"
   ]
  },
  {
   "cell_type": "code",
   "execution_count": 9,
   "id": "8d1f4f88",
   "metadata": {},
   "outputs": [],
   "source": [
    "def indeter_position(*args):\n",
    "    for arg in args:\n",
    "        print (arg)"
   ]
  },
  {
   "cell_type": "code",
   "execution_count": 10,
   "id": "81b501bc",
   "metadata": {},
   "outputs": [
    {
     "name": "stdout",
     "output_type": "stream",
     "text": [
      "5\n",
      "Hello world\n",
      "[1, 2, 3, 4, 5]\n",
      "a\n",
      "4\n",
      "8\n"
     ]
    }
   ],
   "source": [
    "indeter_position(5,\"Hello world\",[1,2,3,4,5],\"a\",4,8)"
   ]
  },
  {
   "cell_type": "markdown",
   "id": "6a67eef9",
   "metadata": {},
   "source": [
    "### By name\n",
    "Using the keyword args or `kwargs1"
   ]
  },
  {
   "cell_type": "code",
   "execution_count": 11,
   "id": "244f38b6",
   "metadata": {},
   "outputs": [],
   "source": [
    "def indet_name(**kwargs):\n",
    "     for kwarg in kwargs:\n",
    "            print (kwarg, \"=>\", kwargs[kwarg])"
   ]
  },
  {
   "cell_type": "code",
   "execution_count": 12,
   "id": "1fa75489",
   "metadata": {},
   "outputs": [
    {
     "name": "stdout",
     "output_type": "stream",
     "text": [
      "n => 5\n",
      "c => Hello\n",
      "l => [1, 2, 3, 4, 5]\n"
     ]
    }
   ],
   "source": [
    "indet_name(n=5, c=\"Hello\", l=[1,2,3,4,5])"
   ]
  },
  {
   "cell_type": "markdown",
   "id": "67acbf80",
   "metadata": {},
   "source": [
    "### Mixing args and kwargs\n",
    "- First regular arguments\n",
    "- Second *args\n",
    "- Thirs *kwargs"
   ]
  },
  {
   "cell_type": "code",
   "execution_count": 14,
   "id": "420e1c60",
   "metadata": {},
   "outputs": [
    {
     "name": "stdout",
     "output_type": "stream",
     "text": [
      "a = 10\n",
      "b = 20\n",
      "args = 1\n",
      "args = 2\n",
      "args = 3\n",
      "args = 4\n",
      "x = Hey\n",
      "y = hello\n",
      "z = there\n"
     ]
    }
   ],
   "source": [
    "def function(a, b, *args, **kwargs):\n",
    "    print(\"a =\", a)\n",
    "    print(\"b =\", b)\n",
    "    for arg in args:\n",
    "        print(\"args =\", arg)\n",
    "    for key, value in kwargs.items():\n",
    "        print(key, \"=\", value)\n",
    "\n",
    "function(10, 20, 1, 2, 3, 4, x=\"Hey\", y=\"hello\", z=\"there\")"
   ]
  },
  {
   "cell_type": "markdown",
   "id": "ba5a77b0",
   "metadata": {},
   "source": [
    "*Tuple unpacking*\n",
    "Using `*` we can extract values from a list or tuple to be used as function arguments"
   ]
  },
  {
   "cell_type": "code",
   "execution_count": 15,
   "id": "d0b4562c",
   "metadata": {},
   "outputs": [
    {
     "name": "stdout",
     "output_type": "stream",
     "text": [
      "a = 10\n",
      "b = 20\n",
      "args = 1\n",
      "args = 2\n",
      "args = 3\n",
      "args = 4\n",
      "x = Hello\n",
      "y = there\n",
      "z = hi\n"
     ]
    }
   ],
   "source": [
    "def function(a, b, *args, **kwargs):\n",
    "    print(\"a =\", a)\n",
    "    print(\"b =\", b)\n",
    "    for arg in args:\n",
    "        print(\"args =\", arg)\n",
    "    for key, value in kwargs.items():\n",
    "        print(key, \"=\", value)\n",
    "\n",
    "args = [1, 2, 3, 4]\n",
    "kwargs = {'x':\"Hello\", 'y':\"there\", 'z':\"hi\"}\n",
    "\n",
    "function(10, 20, *args, **kwargs)"
   ]
  },
  {
   "cell_type": "markdown",
   "id": "76fe247b",
   "metadata": {},
   "source": []
  }
 ],
 "metadata": {
  "kernelspec": {
   "display_name": "Python 3 (ipykernel)",
   "language": "python",
   "name": "python3"
  },
  "language_info": {
   "codemirror_mode": {
    "name": "ipython",
    "version": 3
   },
   "file_extension": ".py",
   "mimetype": "text/x-python",
   "name": "python",
   "nbconvert_exporter": "python",
   "pygments_lexer": "ipython3",
   "version": "3.10.4"
  }
 },
 "nbformat": 4,
 "nbformat_minor": 5
}
