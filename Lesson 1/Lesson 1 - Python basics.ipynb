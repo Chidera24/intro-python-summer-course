{
 "cells": [
  {
   "cell_type": "markdown",
   "id": "65297d5d",
   "metadata": {},
   "source": [
    "## Lesson 1 - Python basics\n",
    "In this lesson we will cover:\n",
    "- What is a variable and how to declare it\n",
    "- Python basic operators\n",
    "- Data types in Python\n",
    "- Lists\n",
    "- Dictionaries\n",
    "- Tuples\n",
    "- Optional exercises\n",
    "\n",
    "All along the lessons you will see comments on the code starting with `#`, these are comment lines and are used to describe what the code is doing"
   ]
  },
  {
   "cell_type": "markdown",
   "id": "d927a42b",
   "metadata": {},
   "source": [
    "## What is a variable?\n",
    "\n",
    "Imagine variables as containers to store data values.\n",
    "We can asign values to these containers using the `=` sign."
   ]
  },
  {
   "cell_type": "code",
   "execution_count": 3,
   "id": "d273a7b9",
   "metadata": {},
   "outputs": [],
   "source": [
    "# Here we assign a to 4, and A to \"Python\"\n",
    "a = 4\n",
    "A = \"Python\""
   ]
  },
  {
   "cell_type": "code",
   "execution_count": 5,
   "id": "c6a73ac0",
   "metadata": {},
   "outputs": [
    {
     "name": "stdout",
     "output_type": "stream",
     "text": [
      "4\n",
      "Python\n"
     ]
    }
   ],
   "source": [
    "# Print the variables\n",
    "print(a)\n",
    "print(A)"
   ]
  },
  {
   "cell_type": "markdown",
   "id": "a800cba9",
   "metadata": {},
   "source": [
    "From the example above we can see that variables are case sensitive, so a variable named `Variable` will be different from another one called `variable`.\n",
    "Variable names can consist of uppercase and lowercase letters, digits and underscore. The first character of a variable name cannot be a digit"
   ]
  },
  {
   "cell_type": "code",
   "execution_count": 8,
   "id": "36e9c3df",
   "metadata": {},
   "outputs": [
    {
     "name": "stdout",
     "output_type": "stream",
     "text": [
      "55\n",
      "49\n"
     ]
    }
   ],
   "source": [
    "Variable = 55\n",
    "variable = 49\n",
    "print(Variable)\n",
    "print(variable)"
   ]
  },
  {
   "cell_type": "code",
   "execution_count": 10,
   "id": "3ade135f",
   "metadata": {},
   "outputs": [
    {
     "ename": "SyntaxError",
     "evalue": "invalid decimal literal (785943242.py, line 2)",
     "output_type": "error",
     "traceback": [
      "\u001b[1;36m  Input \u001b[1;32mIn [10]\u001b[1;36m\u001b[0m\n\u001b[1;33m    1_variable = \"Hi\" #invalid variable name, will throw an error\u001b[0m\n\u001b[1;37m     ^\u001b[0m\n\u001b[1;31mSyntaxError\u001b[0m\u001b[1;31m:\u001b[0m invalid decimal literal\n"
     ]
    }
   ],
   "source": [
    "a_variable = \"Hello\"\n",
    "1_variable = \"Hi\" #invalid variable name, will throw an error"
   ]
  },
  {
   "cell_type": "markdown",
   "id": "2ecace5e",
   "metadata": {},
   "source": [
    "## Operators\n",
    "We now know how to create variables. Lets explore the basic operators in Python. Operators are special symbols in Python that carry out arithmetic or logical computations\n",
    "\n",
    "Arithmetic operators are used to perform mathematical operations like addition, substraction, multiplication, etc\n",
    "\n",
    "| Symbol | Operator | Description |\n",
    "|--------|----------|-------------|\n",
    "|   +    | Addition |  Add two operands |\n",
    "| - | Substraction | Substract two operands |\n",
    "| * | Multiplication | Multiply two operands |\n",
    "| / | Division | Divide two operands |\n",
    "| % | Modulus | Remainder of the division of left operand by the right |\n",
    "| // | Floor division |  Division that results into whole number adjusted to the left in the number line |\n",
    "| ** | Exponent | Left operand raised to the power of right |"
   ]
  },
  {
   "cell_type": "markdown",
   "id": "eb521890",
   "metadata": {},
   "source": [
    "## Types\n",
    "Each variable can be of a particular type, but this type does not needs to be declared when you create the variable, and can even be changed after they have been set"
   ]
  }
 ],
 "metadata": {
  "kernelspec": {
   "display_name": "Python 3 (ipykernel)",
   "language": "python",
   "name": "python3"
  },
  "language_info": {
   "codemirror_mode": {
    "name": "ipython",
    "version": 3
   },
   "file_extension": ".py",
   "mimetype": "text/x-python",
   "name": "python",
   "nbconvert_exporter": "python",
   "pygments_lexer": "ipython3",
   "version": "3.10.4"
  }
 },
 "nbformat": 4,
 "nbformat_minor": 5
}
